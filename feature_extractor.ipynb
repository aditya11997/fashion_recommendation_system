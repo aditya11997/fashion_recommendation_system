{
 "cells": [
  {
   "cell_type": "markdown",
   "metadata": {},
   "source": [
    "## Fashion Recommendation System\n",
    "\n",
    "### Team Members\n",
    "2. Aditya Krishnan\n",
    "2. Bharat Kathuria\n",
    "3. Pinal Bipin Gajjar\n",
    "4. Aditya Singh"
   ]
  },
  {
   "cell_type": "markdown",
   "metadata": {},
   "source": [
    "### Dataset Attributes\n",
    "\n",
    "1. **ID**: `Numeric` - The unique identifier of the product data.\n",
    "2. **Gender**: `Categorical` - Specifies for which gender the product is made.\n",
    "3. **MasterCategory**: `Categorical` - The main category by which products are divided (eg. Apparel, Accessories).\n",
    "4. **SubCategory**: `Categorical` - More specified category for clothing (eg. Topwear, Bottomwear, Watches).\n",
    "5. **ArticleType**: `Categorical` - Shows the product type (eg. Shirts, Jeans, Watches, Tshirts).\n",
    "6. **BaseColor**: `Categorical` - The color of the product.\n",
    "7. **Season**: `Categorical` - It describes the season for which the product is suitable.\n",
    "8. **Year**: `Numeric` - The manufacturing year of the product.\n",
    "9. **Usage**: `Categorical` - The clothing style of product (eg. Casual, Formal).\n",
    "10. **ProductDisplayName**: `Categorical` - The product name displayed on the website.\n",
    "\n",
    "### Data Characteristics\n",
    "\n",
    "- **Number of Use Cases**: 44446\n",
    "- **Total Attributes**: 10\n",
    "- **Data Types**:\n",
    "  - `Gender`, `MasterCategory`, `SubCategory`, `ArticleType`, `BaseColor`, `Season`, `Usage`, `ProductDisplayName`: Categorical (String/Ordinal)\n",
    "  - `ID`, `Year`: Numerical (Integer, Float)\n",
    "\n",
    "Utilizing this dataset allows for a comprehensive analysis of how the various characteristics of product affects the recommendation system."
   ]
  },
  {
   "cell_type": "markdown",
   "metadata": {},
   "source": [
    "### Importing the required libraries"
   ]
  },
  {
   "cell_type": "code",
   "execution_count": 54,
   "metadata": {},
   "outputs": [],
   "source": [
    "import os\n",
    "import matplotlib.pyplot as plt\n",
    "import numpy as np\n",
    "import pandas as pd\n",
    "import pickle\n",
    "import streamlit as st\n",
    "import tensorflow as tf\n",
    "from tensorflow import keras\n",
    "from keras.models import Sequential\n",
    "from keras.layers import Conv2D, MaxPooling2D, Flatten, Dense, Dropout, BatchNormalization\n",
    "from keras.preprocessing.image import ImageDataGenerator\n",
    "from keras.regularizers import l2\n",
    "from keras.callbacks import EarlyStopping, ModelCheckpoint\n",
    "from keras.optimizers import Adam\n",
    "from keras_tuner import HyperModel, RandomSearch\n",
    "from sklearn.utils.class_weight import compute_class_weight\n",
    "from tensorflow.keras.layers import GlobalMaxPooling2D\n",
    "from tensorflow.keras.applications.resnet50 import ResNet50,preprocess_input\n",
    "from tqdm import tqdm"
   ]
  },
  {
   "cell_type": "markdown",
   "metadata": {},
   "source": [
    "### Data Loading"
   ]
  },
  {
   "cell_type": "code",
   "execution_count": 44,
   "metadata": {},
   "outputs": [
    {
     "name": "stdout",
     "output_type": "stream",
     "text": [
      "      id gender masterCategory subCategory  articleType baseColour  season  \\\n",
      "0  15970    Men        Apparel     Topwear       Shirts  Navy Blue    Fall   \n",
      "1  39386    Men        Apparel  Bottomwear        Jeans       Blue  Summer   \n",
      "2  59263  Women    Accessories     Watches      Watches     Silver  Winter   \n",
      "3  21379    Men        Apparel  Bottomwear  Track Pants      Black    Fall   \n",
      "4  53759    Men        Apparel     Topwear      Tshirts       Grey  Summer   \n",
      "\n",
      "     year   usage                             productDisplayName  \n",
      "0  2011.0  Casual               Turtle Check Men Navy Blue Shirt  \n",
      "1  2012.0  Casual             Peter England Men Party Blue Jeans  \n",
      "2  2016.0  Casual                       Titan Women Silver Watch  \n",
      "3  2011.0  Casual  Manchester United Men Solid Black Track Pants  \n",
      "4  2012.0  Casual                          Puma Men Grey T-shirt  \n"
     ]
    }
   ],
   "source": [
    "# loading the CSV file into a Pandas DataFrame\n",
    "df = pd.read_csv('./datasets/styles.csv', usecols=range(10)) # to remove any unnecessary data\n",
    "\n",
    "# displaying the first few rows of the dataset\n",
    "print(df.head())"
   ]
  },
  {
   "cell_type": "markdown",
   "metadata": {},
   "source": [
    "#### Note\n",
    "We have 10 attributes which can be used to identify the product."
   ]
  },
  {
   "cell_type": "markdown",
   "metadata": {},
   "source": [
    "### Data Summary & Descriptive"
   ]
  },
  {
   "cell_type": "code",
   "execution_count": 45,
   "metadata": {},
   "outputs": [
    {
     "name": "stdout",
     "output_type": "stream",
     "text": [
      "                 id          year\n",
      "count  44446.000000  44445.000000\n",
      "mean   29692.631350   2012.805940\n",
      "std    17048.234982      2.126401\n",
      "min     1163.000000   2007.000000\n",
      "25%    14770.250000   2011.000000\n",
      "50%    28609.500000   2012.000000\n",
      "75%    44678.750000   2015.000000\n",
      "max    60000.000000   2019.000000\n"
     ]
    }
   ],
   "source": [
    "# checking the basic statistics of numeric columns\n",
    "print(df.describe())"
   ]
  },
  {
   "cell_type": "code",
   "execution_count": 46,
   "metadata": {},
   "outputs": [
    {
     "name": "stdout",
     "output_type": "stream",
     "text": [
      "Number of products:  44446\n",
      "id                      int64\n",
      "gender                 object\n",
      "masterCategory         object\n",
      "subCategory            object\n",
      "articleType            object\n",
      "baseColour             object\n",
      "season                 object\n",
      "year                  float64\n",
      "usage                  object\n",
      "productDisplayName     object\n",
      "dtype: object\n"
     ]
    }
   ],
   "source": [
    "# checking for the number of products in the dataset\n",
    "print(\"Number of products: \",df.shape[0])\n",
    "\n",
    "# checking the data types of each column\n",
    "print(df.dtypes)"
   ]
  },
  {
   "cell_type": "markdown",
   "metadata": {},
   "source": [
    "### Checking for missing values & unique counts"
   ]
  },
  {
   "cell_type": "code",
   "execution_count": 48,
   "metadata": {},
   "outputs": [
    {
     "name": "stdout",
     "output_type": "stream",
     "text": [
      "\n",
      "Missing values:\n",
      "id                      0\n",
      "gender                  0\n",
      "masterCategory          0\n",
      "subCategory             0\n",
      "articleType             0\n",
      "baseColour             15\n",
      "season                 21\n",
      "year                    1\n",
      "usage                 317\n",
      "productDisplayName      7\n",
      "dtype: int64\n",
      "\n",
      "Unique value counts:\n",
      "id: 44446 unique values\n",
      "gender: 5 unique values\n",
      "masterCategory: 7 unique values\n",
      "subCategory: 45 unique values\n",
      "articleType: 143 unique values\n",
      "baseColour: 46 unique values\n",
      "season: 4 unique values\n",
      "year: 13 unique values\n",
      "usage: 8 unique values\n",
      "productDisplayName: 31135 unique values\n"
     ]
    }
   ],
   "source": [
    "# checking for missing values\n",
    "print(\"\\nMissing values:\")\n",
    "print(df.isnull().sum())\n",
    "\n",
    "# counting the number of unique values in each column\n",
    "print(\"\\nUnique value counts:\")\n",
    "for column in df.columns:\n",
    "    print(f\"{column}: {df[column].nunique()} unique values\")"
   ]
  },
  {
   "cell_type": "markdown",
   "metadata": {},
   "source": [
    "#### Note\n",
    "We can note that there are few missing values in our dataset. Most are in the usage column. Furthermore, we have 5 genders, 7 main categories, 45 sub categories, 143 product type, 46 product color, 4 seasons and 8 usages of the product style."
   ]
  },
  {
   "cell_type": "markdown",
   "metadata": {},
   "source": [
    "### Checking for duplicates"
   ]
  },
  {
   "cell_type": "code",
   "execution_count": 49,
   "metadata": {},
   "outputs": [
    {
     "name": "stdout",
     "output_type": "stream",
     "text": [
      "number of duplicate rows 0\n"
     ]
    }
   ],
   "source": [
    "duplicated_rows = df[df.duplicated()]\n",
    "\n",
    "# getting the count of duplicated rows\n",
    "num_duplicated_rows = duplicated_rows.shape[0]\n",
    "print('number of duplicate rows', num_duplicated_rows)"
   ]
  },
  {
   "cell_type": "markdown",
   "metadata": {},
   "source": [
    "#### Note\n",
    "We can confirm that there are no duplicates in our data."
   ]
  },
  {
   "cell_type": "markdown",
   "metadata": {},
   "source": [
    "### Data visualization"
   ]
  },
  {
   "cell_type": "code",
   "execution_count": 55,
   "metadata": {},
   "outputs": [
    {
     "data": {
      "image/png": "[encoded data removed]",
      "text/plain": [
       "<Figure size 640x480 with 1 Axes>"
      ]
     },
     "metadata": {},
     "output_type": "display_data"
    }
   ],
   "source": [
    "# checking the distribution of products by gender\n",
    "df['gender'].value_counts().plot(kind='bar')\n",
    "plt.title('Gender Distribution')\n",
    "plt.show()"
   ]
  },
  {
   "cell_type": "markdown",
   "metadata": {},
   "source": [
    "#### Note\n",
    "We can observe that most products fall under two genders Male and Female."
   ]
  },
  {
   "cell_type": "code",
   "execution_count": 56,
   "metadata": {},
   "outputs": [
    {
     "data": {
      "image/png": "[encoded data removed]",
      "text/plain": [
       "<Figure size 640x480 with 1 Axes>"
      ]
     },
     "metadata": {},
     "output_type": "display_data"
    }
   ],
   "source": [
    "# checking the distribution of products by main category\n",
    "df['masterCategory'].value_counts().plot(kind='bar')\n",
    "plt.title('Main Categories')\n",
    "plt.show()"
   ]
  },
  {
   "cell_type": "markdown",
   "metadata": {},
   "source": [
    "#### Note\n",
    "We can observe that Apparel contains the highest number of products followed by Accessories and Footwear. Whereas Free Items, Sporting Goods and Home have the least number of products."
   ]
  },
  {
   "cell_type": "code",
   "execution_count": 57,
   "metadata": {},
   "outputs": [
    {
     "data": {
      "image/png": "[encoded data removed]",
      "text/plain": [
       "<Figure size 640x480 with 1 Axes>"
      ]
     },
     "metadata": {},
     "output_type": "display_data"
    }
   ],
   "source": [
    "# checking the distribution of products by season\n",
    "df['season'].value_counts().plot(kind='bar')\n",
    "plt.title('Season')\n",
    "plt.show()"
   ]
  },
  {
   "cell_type": "markdown",
   "metadata": {},
   "source": [
    "#### Note\n",
    "We can observe that Summer Season is having the highest number of product. Fall, Winter and Spring have a decreasing order."
   ]
  },
  {
   "cell_type": "code",
   "execution_count": 58,
   "metadata": {},
   "outputs": [
    {
     "data": {
      "image/png": "[encoded data removed]",
      "text/plain": [
       "<Figure size 640x480 with 1 Axes>"
      ]
     },
     "metadata": {},
     "output_type": "display_data"
    }
   ],
   "source": [
    "# checking the distribution of products by usage\n",
    "df['usage'].value_counts().plot(kind='bar')\n",
    "plt.title('Product Usage')\n",
    "plt.show()"
   ]
  },
  {
   "cell_type": "markdown",
   "metadata": {},
   "source": [
    "#### Note\n",
    "We can note that most products are listed as Casual wear(usage), there are less than 5000 products for Sports, Ethinic and Formal. While, other usages have least amount of products."
   ]
  },
  {
   "cell_type": "code",
   "execution_count": 59,
   "metadata": {},
   "outputs": [
    {
     "data": {
      "image/png": "[encoded data removed]",
      "text/plain": [
       "<Figure size 640x480 with 1 Axes>"
      ]
     },
     "metadata": {},
     "output_type": "display_data"
    }
   ],
   "source": [
    "# checking the distribution of products by Color\n",
    "df['baseColour'].value_counts().plot(kind='bar')\n",
    "plt.title('Product Base Color')\n",
    "plt.show()"
   ]
  },
  {
   "cell_type": "markdown",
   "metadata": {},
   "source": [
    "#### Note\n",
    "We can observe a trend of black color clothes, followed by white, blue, brown and grey with most of the product distribution"
   ]
  },
  {
   "cell_type": "code",
   "execution_count": 60,
   "metadata": {},
   "outputs": [
    {
     "data": {
      "image/png": "[encoded data removed]",
      "text/plain": [
       "<Figure size 1000x600 with 1 Axes>"
      ]
     },
     "metadata": {},
     "output_type": "display_data"
    }
   ],
   "source": [
    "# Histogram of Year using matplotlib\n",
    "plt.figure(figsize=(10, 6))\n",
    "plt.hist(df['year'], bins=20, color='lightblue', edgecolor='black')\n",
    "plt.title('Histogram of Product Manufacturing Year')\n",
    "plt.xlabel('Year')\n",
    "plt.ylabel('Products')\n",
    "plt.grid(True)\n",
    "plt.show()"
   ]
  },
  {
   "cell_type": "markdown",
   "metadata": {},
   "source": [
    "Enable GPU"
   ]
  },
  {
   "cell_type": "code",
   "execution_count": 7,
   "metadata": {},
   "outputs": [],
   "source": [
    "os.environ[\"CUDA_DEVICE_ORDER\"]=\"PCI_BUS_ID\"   # see issue #152\n",
    "os.environ[\"CUDA_VISIBLE_DEVICES\"]=\"0\""
   ]
  },
  {
   "cell_type": "code",
   "execution_count": 8,
   "metadata": {},
   "outputs": [
    {
     "name": "stdout",
     "output_type": "stream",
     "text": [
      "1 Physical GPUs, 1 Logical GPUs\n"
     ]
    }
   ],
   "source": [
    "gpus = tf.config.experimental.list_physical_devices('GPU')\n",
    "if gpus:\n",
    "    try:\n",
    "        # Currently, memory growth needs to be the same across GPUs\n",
    "        for gpu in gpus:\n",
    "            tf.config.experimental.set_memory_growth(gpu, True)\n",
    "        logical_gpus = tf.config.experimental.list_logical_devices('GPU')\n",
    "        print(len(gpus), \"Physical GPUs,\", len(logical_gpus), \"Logical GPUs\")\n",
    "    except RuntimeError as e:\n",
    "        # Memory growth must be set before GPUs have been initialized\n",
    "        print(e)"
   ]
  },
  {
   "cell_type": "markdown",
   "metadata": {},
   "source": [
    "Dataset Source:\n",
    "https://www.kaggle.com/datasets/paramaggarwal/fashion-product-images-small/code"
   ]
  },
  {
   "cell_type": "markdown",
   "metadata": {},
   "source": [
    "<h2>Model Architecture For the Baseline Model:</h2>\n",
    "<ul>\n",
    "    <li><strong>Sequential Model:</strong> Stacks layers sequentially where each layer connects only to the following layer.</li>\n",
    "    <li><strong>1st Convolutional Layer:</strong>\n",
    "        <ul>\n",
    "            <li><strong>Conv2D with 192 filters:</strong> Learns 192 distinct patterns.</li>\n",
    "            <li><strong>Kernel size:</strong> 3x3.</li>\n",
    "            <li><strong>Activation function:</strong> 'relu' (Rectified Linear Unit).</li>\n",
    "            <li><strong>Input shape:</strong> (150, 150, 3) - for 150x150 pixel RGB images.</li>\n",
    "            <li><strong>MaxPooling2D:</strong> Pooling operation with a 2x2 window to reduce spatial dimensions.</li>\n",
    "        </ul>\n",
    "    </li>\n",
    "    <li><strong>2nd Convolutional Layer:</strong>\n",
    "        <ul>\n",
    "            <li><strong>Conv2D with 256 filters:</strong> Learns additional patterns with more filters.</li>\n",
    "            <li><strong>Kernel size:</strong> 3x3.</li>\n",
    "            <li><strong>Activation:</strong> 'relu'.</li>\n",
    "            <li><strong>MaxPooling2D:</strong> Further reduces spatial dimensions.</li>\n",
    "        </ul>\n",
    "    </li>\n",
    "    <li><strong>3rd Convolutional Layer:</strong>\n",
    "        <ul>\n",
    "            <li><strong>Conv2D with 64 filters:</strong> Focuses on higher-level features.</li>\n",
    "            <li><strong>Kernel size:</strong> 3x3.</li>\n",
    "            <li><strong>Activation:</strong> 'relu'.</li>\n",
    "            <li><strong>MaxPooling2D:</strong> Additional reduction in spatial dimensions.</li>\n",
    "        </ul>\n",
    "    </li>\n",
    "    <li><strong>4th Convolutional Layer:</strong>\n",
    "        <ul>\n",
    "            <li><strong>Conv2D with 128 filters:</strong> Increases filters for richer representation.</li>\n",
    "            <li><strong>Kernel size:</strong> 3x3.</li>\n",
    "            <li><strong>Activation:</strong> 'relu'.</li>\n",
    "            <li><strong>MaxPooling2D:</strong> Final pooling layer.</li>\n",
    "        </ul>\n",
    "    </li>\n",
    "    <li><strong>Flatten Layer:</strong> Flattens the output to 1D for the following dense layers.</li>\n",
    "    <li><strong>Dense Layer:</strong>\n",
    "        <ul>\n",
    "            <li><strong>Units:</strong> 480 neurons.</li>\n",
    "            <li><strong>Activation:</strong> 'relu'.</li>\n",
    "        </ul>\n",
    "    </li>\n",
    "    <li><strong>Dropout Layer:</strong>\n",
    "        <ul>\n",
    "            <li><strong>Rate:</strong> 0.5 - Randomly sets half of the neuron outputs to zero.</li>\n",
    "        </ul>\n",
    "    </li>\n",
    "    <li><strong>Output Layer:</strong>\n",
    "        <ul>\n",
    "            <li><strong>Units:</strong> 142 neurons (one for each class).</li>\n",
    "            <li><strong>Activation:</strong> 'softmax' - for multi-class classification.</li>\n",
    "        </ul>\n",
    "    </li>\n",
    "    <li><strong>Compilation:</strong>\n",
    "        <ul>\n",
    "            <li><strong>Optimizer:</strong> 'adam'.</li>\n",
    "            <li><strong>Loss function:</strong> 'categorical_crossentropy'.</li>\n",
    "            <li><strong>Metrics:</strong> 'accuracy'.</li>\n",
    "        </ul>\n",
    "    </li>\n",
    "    <li><strong>Early Stopping Callback:</strong> Monitors validation accuracy with a patience of 10 epochs.</li>\n",
    "</ul>\n",
    "<p>Call <code>model.summary()</code> to print out the architecture including layer types, output shapes, and parameter counts.</p>"
   ]
  },
  {
   "cell_type": "markdown",
   "metadata": {},
   "source": [
    "Now, let us use Keras Tuner to determine the optimal number of convolution layers, and hyperparameters including the filter sizes in each layer to build an optimal model for the problem."
   ]
  },
  {
   "cell_type": "code",
   "execution_count": 9,
   "metadata": {},
   "outputs": [],
   "source": [
    "from keras.models import Model\n",
    "from keras.layers import Conv2D, MaxPooling2D, Flatten, Dense, Input\n",
    "from keras_tuner import HyperModel\n",
    "\n",
    "class MyHyperModel(HyperModel):\n",
    "    def __init__(self, input_shape, num_classes):\n",
    "        self.input_shape = input_shape\n",
    "        self.num_classes = num_classes\n",
    "\n",
    "    def build(self, hp):\n",
    "        input_layer = Input(shape=self.input_shape)\n",
    "        x = input_layer\n",
    "\n",
    "        # Tuning the number of convolutional layers\n",
    "        for i in range(hp.Int('num_conv_layers', 1, 5)):  # Example range: 1 to 5 convolutional layers\n",
    "            x = Conv2D(\n",
    "                filters=hp.Int(f'filters_{i}', 32, 256, step=32),\n",
    "                kernel_size=(3, 3),\n",
    "                activation='relu'\n",
    "            )(x)\n",
    "            x = MaxPooling2D(pool_size=(2, 2))(x)\n",
    "\n",
    "        # Feature extraction layer\n",
    "        feature_layer = Conv2D(128, (3, 3), activation='relu')(x)  \n",
    "        feature_extractor = Model(inputs=input_layer, outputs=feature_layer)\n",
    "\n",
    "        # Adding Flatten and Dense layers for classification\n",
    "        x = Flatten()(feature_layer)\n",
    "        x = Dense(\n",
    "            hp.Int('units', min_value=32, max_value=512, step=32),\n",
    "            activation='relu'\n",
    "        )(x)\n",
    "        output_layer = Dense(self.num_classes, activation='softmax')(x)\n",
    "\n",
    "        # Complete model for training\n",
    "        model = Model(inputs=input_layer, outputs=output_layer)\n",
    "        model.compile(\n",
    "            optimizer='adam',\n",
    "            loss='categorical_crossentropy',\n",
    "            metrics=['accuracy']\n",
    "        )\n",
    "\n",
    "        return model"
   ]
  },
  {
   "cell_type": "code",
   "execution_count": 10,
   "metadata": {},
   "outputs": [],
   "source": [
    "my_hypermodel = MyHyperModel(input_shape=(150, 150, 3), num_classes=142)"
   ]
  },
  {
   "cell_type": "code",
   "execution_count": 11,
   "metadata": {},
   "outputs": [
    {
     "name": "stdout",
     "output_type": "stream",
     "text": [
      "Reloading Tuner from my_tuner_dir\\my_tuner_project\\tuner0.json\n"
     ]
    }
   ],
   "source": [
    "from keras_tuner import RandomSearch\n",
    "\n",
    "tuner = RandomSearch(\n",
    "    my_hypermodel,\n",
    "    objective='val_accuracy',\n",
    "    max_trials=10,\n",
    "    executions_per_trial=1,\n",
    "    directory='my_tuner_dir',\n",
    "    project_name='my_tuner_project'\n",
    ")"
   ]
  },
  {
   "cell_type": "markdown",
   "metadata": {},
   "source": [
    "Uncomment the below block when running keras tuner search again."
   ]
  },
  {
   "cell_type": "code",
   "execution_count": 12,
   "metadata": {},
   "outputs": [],
   "source": [
    "# tuner.search(\n",
    "#     train_generator,  # assuming this is your training data generator\n",
    "#     steps_per_epoch=train_generator.samples // batch_size,\n",
    "#     epochs=10,\n",
    "#     validation_data=validation_generator,\n",
    "#     validation_steps=validation_generator.samples // batch_size\n",
    "# )"
   ]
  },
  {
   "cell_type": "code",
   "execution_count": 13,
   "metadata": {},
   "outputs": [],
   "source": [
    "best_model = tuner.get_best_models(num_models=1)[0]"
   ]
  },
  {
   "cell_type": "code",
   "execution_count": 14,
   "metadata": {},
   "outputs": [
    {
     "name": "stdout",
     "output_type": "stream",
     "text": [
      "Best number of layers: 4\n",
      "All best hyperparameters:\n",
      "num_conv_layers: 4\n",
      "filters_0: 192\n",
      "units: 480\n",
      "filters_1: 256\n",
      "filters_2: 64\n",
      "filters_3: 128\n",
      "filters_4: 128\n"
     ]
    }
   ],
   "source": [
    "# Retrieve the best hyperparameters\n",
    "best_hyperparameters = tuner.get_best_hyperparameters(1)[0]\n",
    "\n",
    "# Access a specific hyperparameter\n",
    "num_layers = best_hyperparameters.get('num_conv_layers')\n",
    "print(f\"Best number of layers: {num_layers}\")\n",
    "\n",
    "# Print all hyperparameter values\n",
    "print(\"All best hyperparameters:\")\n",
    "for hp_name in best_hyperparameters.space:\n",
    "    print(f\"{hp_name.name}: {best_hyperparameters.get(hp_name.name)}\")"
   ]
  },
  {
   "cell_type": "markdown",
   "metadata": {},
   "source": [
    "Define Data Generators for train, test and validation data. We perform the following Data Augmentation steps below to increase the variety in the data and introduce little nuances of the same data while training the model: scaling, rotation, zoom, and horizontal flip. 70% of the total data is in training, 15% is in validation and 15% in testing."
   ]
  },
  {
   "cell_type": "code",
   "execution_count": 15,
   "metadata": {},
   "outputs": [
    {
     "name": "stdout",
     "output_type": "stream",
     "text": [
      "Found 31026 images belonging to 142 classes.\n",
      "Found 6597 images belonging to 142 classes.\n",
      "Found 6796 images belonging to 142 classes.\n"
     ]
    }
   ],
   "source": [
    "from keras.preprocessing.image import ImageDataGenerator\n",
    "\n",
    "# Paths to the train, validation, and test directories\n",
    "train_dir = './datasets/train/'\n",
    "validation_dir = './datasets/validation/'\n",
    "test_dir = './datasets/test/'\n",
    "\n",
    "# Image dimensions and batch size\n",
    "img_width, img_height = 150, 150\n",
    "batch_size = 32\n",
    "\n",
    "# Data augmentation for training data\n",
    "train_datagen = ImageDataGenerator(\n",
    "    rescale=1.0/255,\n",
    "    rotation_range=20,\n",
    "    width_shift_range=0.2,\n",
    "    height_shift_range=0.2,\n",
    "    shear_range=0.2,\n",
    "    zoom_range=0.2,\n",
    "    horizontal_flip=True\n",
    ")\n",
    "\n",
    "# Rescale validation and test data\n",
    "test_val_datagen = ImageDataGenerator(rescale=1.0/255)\n",
    "\n",
    "# Train data generator\n",
    "train_generator = train_datagen.flow_from_directory(\n",
    "    train_dir,\n",
    "    target_size=(img_width, img_height),\n",
    "    batch_size=batch_size,\n",
    "    class_mode='categorical'\n",
    ")\n",
    "\n",
    "# Validation data generator\n",
    "validation_generator = test_val_datagen.flow_from_directory(\n",
    "    validation_dir,\n",
    "    target_size=(img_width, img_height),\n",
    "    batch_size=batch_size,\n",
    "    class_mode='categorical'\n",
    ")\n",
    "\n",
    "# Test data generator\n",
    "test_generator = test_val_datagen.flow_from_directory(\n",
    "    test_dir,\n",
    "    target_size=(img_width, img_height),\n",
    "    batch_size=batch_size,\n",
    "    class_mode='categorical'\n",
    ")"
   ]
  },
  {
   "cell_type": "code",
   "execution_count": 16,
   "metadata": {},
   "outputs": [
    {
     "name": "stdout",
     "output_type": "stream",
     "text": [
      "Model: \"sequential\"\n",
      "_________________________________________________________________\n",
      " Layer (type)                Output Shape              Param #   \n",
      "=================================================================\n",
      " conv2d_5 (Conv2D)           (None, 148, 148, 192)     5376      \n",
      "                                                                 \n",
      " max_pooling2d_4 (MaxPooling  (None, 74, 74, 192)      0         \n",
      " 2D)                                                             \n",
      "                                                                 \n",
      " conv2d_6 (Conv2D)           (None, 72, 72, 256)       442624    \n",
      "                                                                 \n",
      " max_pooling2d_5 (MaxPooling  (None, 36, 36, 256)      0         \n",
      " 2D)                                                             \n",
      "                                                                 \n",
      " conv2d_7 (Conv2D)           (None, 34, 34, 64)        147520    \n",
      "                                                                 \n",
      " max_pooling2d_6 (MaxPooling  (None, 17, 17, 64)       0         \n",
      " 2D)                                                             \n",
      "                                                                 \n",
      " conv2d_8 (Conv2D)           (None, 15, 15, 128)       73856     \n",
      "                                                                 \n",
      " max_pooling2d_7 (MaxPooling  (None, 7, 7, 128)        0         \n",
      " 2D)                                                             \n",
      "                                                                 \n",
      " flatten_1 (Flatten)         (None, 6272)              0         \n",
      "                                                                 \n",
      " dense_2 (Dense)             (None, 480)               3011040   \n",
      "                                                                 \n",
      " dropout (Dropout)           (None, 480)               0         \n",
      "                                                                 \n",
      " dense_3 (Dense)             (None, 142)               68302     \n",
      "                                                                 \n",
      "=================================================================\n",
      "Total params: 3,748,718\n",
      "Trainable params: 3,748,718\n",
      "Non-trainable params: 0\n",
      "_________________________________________________________________\n"
     ]
    }
   ],
   "source": [
    "from keras.models import Sequential\n",
    "from keras.layers import Conv2D, MaxPooling2D, Flatten, Dense, Dropout\n",
    "\n",
    "# Model parameters\n",
    "input_shape = (150, 150, 3)  # Adjust based on your image dimensions\n",
    "num_classes = 142  # Adjust based on the number of classes you have\n",
    "\n",
    "# Initialize the model\n",
    "model = Sequential()\n",
    "\n",
    "# 1st Convolutional Layer\n",
    "model.add(Conv2D(192, (3, 3), activation='relu', input_shape=input_shape))\n",
    "model.add(MaxPooling2D(pool_size=(2, 2)))\n",
    "\n",
    "# 2nd Convolutional Layer\n",
    "model.add(Conv2D(256, (3, 3), activation='relu'))\n",
    "model.add(MaxPooling2D(pool_size=(2, 2)))\n",
    "\n",
    "# 3rd Convolutional Layer\n",
    "model.add(Conv2D(64, (3, 3), activation='relu'))\n",
    "model.add(MaxPooling2D(pool_size=(2, 2)))\n",
    "\n",
    "# 4th Convolutional Layer\n",
    "model.add(Conv2D(128, (3, 3), activation='relu'))\n",
    "model.add(MaxPooling2D(pool_size=(2, 2)))\n",
    "\n",
    "# Flatten the output and use dense layers\n",
    "model.add(Flatten())\n",
    "model.add(Dense(480, activation='relu'))  # Dense layer with units as per hyperparameters\n",
    "model.add(Dropout(0.5))  # You can adjust the dropout rate if needed\n",
    "model.add(Dense(num_classes, activation='softmax'))  # Output layer\n",
    "\n",
    "# Compile the model\n",
    "model.compile(optimizer='adam', loss='categorical_crossentropy', metrics=['accuracy'])\n",
    "\n",
    "early_stopping = EarlyStopping(monitor='val_accuracy', patience=10, restore_best_weights=True)\n",
    "\n",
    "# Model summary\n",
    "model.summary()"
   ]
  },
  {
   "cell_type": "markdown",
   "metadata": {},
   "source": [
    "Model Fitting"
   ]
  },
  {
   "cell_type": "code",
   "execution_count": 17,
   "metadata": {},
   "outputs": [],
   "source": [
    "# # Train the Model\n",
    "# epochs = 50\n",
    "# batch_size = 32\n",
    "# model.fit(\n",
    "#     train_generator,\n",
    "#     steps_per_epoch=train_generator.samples // batch_size,\n",
    "#     epochs=epochs,\n",
    "#     validation_data=validation_generator,\n",
    "#     validation_steps=validation_generator.samples // batch_size,\n",
    "#     callbacks=[early_stopping]\n",
    "# )"
   ]
  },
  {
   "cell_type": "markdown",
   "metadata": {},
   "source": [
    "Train Accuracy: 74.88 <br>\n",
    "Val Accuracy: 79.00<br>\n",
    "Val Loss: 69.36"
   ]
  },
  {
   "cell_type": "markdown",
   "metadata": {},
   "source": [
    "Save the model for predictions"
   ]
  },
  {
   "cell_type": "code",
   "execution_count": 18,
   "metadata": {},
   "outputs": [],
   "source": [
    "# model.save(filepath=\"./models/model2_final.keras\")"
   ]
  },
  {
   "cell_type": "code",
   "execution_count": 19,
   "metadata": {},
   "outputs": [],
   "source": [
    "# # Save the model\n",
    "# model.save('model2_final.h5')  # Creates a HDF5 file 'my_model.h5'"
   ]
  },
  {
   "cell_type": "markdown",
   "metadata": {},
   "source": [
    "Load the pre trained model"
   ]
  },
  {
   "cell_type": "code",
   "execution_count": 20,
   "metadata": {},
   "outputs": [],
   "source": [
    "from keras.models import load_model\n",
    "\n",
    "# Load the model\n",
    "saved_model = load_model('./models/model2_final.keras')"
   ]
  },
  {
   "cell_type": "markdown",
   "metadata": {},
   "source": [
    "Model evaluation on test data"
   ]
  },
  {
   "cell_type": "code",
   "execution_count": 21,
   "metadata": {},
   "outputs": [
    {
     "name": "stdout",
     "output_type": "stream",
     "text": [
      "213/213 [==============================] - 27s 83ms/step - loss: 0.8265 - accuracy: 0.7749\n",
      "Test Loss: 0.8264647126197815\n",
      "Test Accuracy: 0.774867594242096\n"
     ]
    }
   ],
   "source": [
    "# Evaluate the model\n",
    "loss, accuracy = saved_model.evaluate(test_generator)\n",
    "\n",
    "# Print the results\n",
    "print(\"Test Loss:\", loss)\n",
    "print(\"Test Accuracy:\", accuracy)"
   ]
  },
  {
   "cell_type": "markdown",
   "metadata": {},
   "source": [
    "Model evaluation on train data"
   ]
  },
  {
   "cell_type": "code",
   "execution_count": 22,
   "metadata": {},
   "outputs": [
    {
     "name": "stdout",
     "output_type": "stream",
     "text": [
      "970/970 [==============================] - 374s 386ms/step - loss: 0.7535 - accuracy: 0.7600\n",
      "Train Loss: 0.753473162651062\n",
      "Train Accuracy: 0.7600077390670776\n"
     ]
    }
   ],
   "source": [
    "# Evaluate the model\n",
    "loss, accuracy = saved_model.evaluate(train_generator)\n",
    "\n",
    "# Print the results\n",
    "print(\"Train Loss:\", loss)\n",
    "print(\"Train Accuracy:\", accuracy)"
   ]
  },
  {
   "cell_type": "markdown",
   "metadata": {},
   "source": [
    "Model evaluation on validation set"
   ]
  },
  {
   "cell_type": "code",
   "execution_count": 23,
   "metadata": {},
   "outputs": [
    {
     "name": "stdout",
     "output_type": "stream",
     "text": [
      "207/207 [==============================] - 22s 107ms/step - loss: 0.7201 - accuracy: 0.7848\n",
      "Validation Loss: 0.7201240062713623\n",
      "Validation Accuracy: 0.7847506403923035\n"
     ]
    }
   ],
   "source": [
    "# Evaluate the model\n",
    "loss, accuracy = saved_model.evaluate(validation_generator)\n",
    "\n",
    "# Print the results\n",
    "print(\"Validation Loss:\", loss)\n",
    "print(\"Validation Accuracy:\", accuracy)"
   ]
  },
  {
   "cell_type": "markdown",
   "metadata": {},
   "source": [
    "Model evaluation with metrics on train data."
   ]
  },
  {
   "cell_type": "code",
   "execution_count": 24,
   "metadata": {},
   "outputs": [
    {
     "name": "stdout",
     "output_type": "stream",
     "text": [
      "970/970 [==============================] - 11045s 11s/step\n",
      "[ 84 126 112 ... 119 100  27] [  0   0   0 ... 141 141 141]\n"
     ]
    }
   ],
   "source": [
    "from sklearn.metrics import classification_report\n",
    "\n",
    "# Predict classes on training data\n",
    "train_generator.reset()\n",
    "train_predictions = saved_model.predict(train_generator)\n",
    "train_pred_classes = np.argmax(train_predictions, axis=1)\n",
    "\n",
    "# Get true class labels\n",
    "train_true_classes = train_generator.classes\n",
    "\n",
    "print(train_pred_classes, train_true_classes)"
   ]
  },
  {
   "cell_type": "code",
   "execution_count": 25,
   "metadata": {},
   "outputs": [],
   "source": [
    "# Get the list of class indices\n",
    "class_labels = list(range(len(train_generator.class_indices)))"
   ]
  },
  {
   "cell_type": "code",
   "execution_count": 26,
   "metadata": {},
   "outputs": [
    {
     "name": "stdout",
     "output_type": "stream",
     "text": [
      "Training Data Classification Report:\n",
      "                            precision    recall  f1-score   support\n",
      "\n",
      "       Accessory Gift Set       0.00      0.00      0.00        67\n",
      "               Baby Dolls       0.00      0.00      0.00        11\n",
      "                Backpacks       0.01      0.01      0.01       506\n",
      "                   Bangle       0.00      0.00      0.00        59\n",
      "              Basketballs       0.00      0.00      0.00         9\n",
      "                Bath Robe       0.00      0.00      0.00        14\n",
      "         Beauty Accessory       0.00      0.00      0.00         2\n",
      "                    Belts       0.02      0.02      0.02       569\n",
      "                  Blazers       0.00      0.00      0.00         5\n",
      "              Body Lotion       0.00      0.00      0.00         4\n",
      "      Body Wash and Scrub       0.00      0.00      0.00         0\n",
      "                  Booties       0.00      0.00      0.00         8\n",
      "                   Boxers       0.00      0.00      0.00        36\n",
      "                      Bra       0.01      0.01      0.01       333\n",
      "                 Bracelet       0.00      0.00      0.00        46\n",
      "                   Briefs       0.03      0.03      0.03       594\n",
      "                Camisoles       0.00      0.00      0.00        27\n",
      "                   Capris       0.00      0.00      0.00       122\n",
      "                     Caps       0.01      0.01      0.01       198\n",
      "             Casual Shoes       0.07      0.08      0.07      1991\n",
      "                 Churidar       0.00      0.00      0.00        21\n",
      "             Clothing Set       0.00      0.00      0.00         5\n",
      "                 Clutches       0.00      0.00      0.00       203\n",
      "                  Compact       0.00      0.00      0.00        34\n",
      "                Concealer       0.00      0.00      0.00         7\n",
      "                Cufflinks       0.01      0.01      0.01        74\n",
      "           Cushion Covers       0.00      0.00      0.00         0\n",
      "                Deodorant       0.00      0.00      0.00       242\n",
      "                  Dresses       0.01      0.01      0.01       324\n",
      "               Duffel Bag       0.00      0.00      0.00        61\n",
      "                  Dupatta       0.00      0.00      0.00        81\n",
      "                 Earrings       0.01      0.01      0.01       291\n",
      "                Eye Cream       0.00      0.00      0.00         4\n",
      "                Eyeshadow       0.00      0.00      0.00        29\n",
      "        Face Moisturisers       0.00      0.00      0.00        42\n",
      "Face Scrub and Exfoliator       0.00      0.00      0.00         3\n",
      "       Face Serum and Gel       0.00      0.00      0.00         1\n",
      "   Face Wash and Cleanser       0.00      0.00      0.00        19\n",
      "                    Flats       0.00      0.00      0.00       350\n",
      "               Flip Flops       0.01      0.02      0.01       639\n",
      "                Footballs       0.00      0.00      0.00         5\n",
      "             Formal Shoes       0.02      0.02      0.02       445\n",
      "    Foundation and Primer       0.00      0.00      0.00        53\n",
      "       Fragrance Gift Set       0.00      0.00      0.00        39\n",
      "               Free Gifts       0.00      0.00      0.00        63\n",
      "                   Gloves       0.00      0.00      0.00        14\n",
      "           Hair Accessory       0.00      0.00      0.00         0\n",
      "              Hair Colour       0.00      0.00      0.00        13\n",
      "                 Handbags       0.03      0.04      0.03      1231\n",
      "                      Hat       0.00      0.00      0.00         2\n",
      "                 Headband       0.00      0.00      0.00         4\n",
      "                    Heels       0.03      0.04      0.04       926\n",
      "    Highlighter and Blush       0.03      0.03      0.03        37\n",
      "          Innerwear Vests       0.01      0.01      0.01       169\n",
      "                     Ipad       0.00      0.00      0.00         0\n",
      "                  Jackets       0.02      0.01      0.01       180\n",
      "                    Jeans       0.01      0.01      0.01       425\n",
      "                 Jeggings       0.00      0.00      0.00        23\n",
      "            Jewellery Set       0.00      0.00      0.00        40\n",
      "                 Jumpsuit       0.00      0.00      0.00        11\n",
      "       Kajal and Eyeliner       0.00      0.00      0.00        71\n",
      "                Key chain       0.00      0.00      0.00         1\n",
      "               Kurta Sets       0.00      0.00      0.00        65\n",
      "                   Kurtas       0.05      0.06      0.05      1290\n",
      "                   Kurtis       0.00      0.00      0.00       163\n",
      "               Laptop Bag       0.00      0.00      0.00        57\n",
      "                 Leggings       0.00      0.01      0.01       123\n",
      "            Lehenga Choli       0.00      0.00      0.00         2\n",
      "                 Lip Care       0.00      0.00      0.00        11\n",
      "                Lip Gloss       0.00      0.00      0.00       100\n",
      "                Lip Liner       0.00      0.00      0.00        33\n",
      "              Lip Plumper       0.00      0.00      0.00         2\n",
      "                 Lipstick       0.00      0.00      0.00       220\n",
      "             Lounge Pants       0.00      0.00      0.00        42\n",
      "            Lounge Shorts       0.00      0.00      0.00        23\n",
      "           Lounge Tshirts       0.00      0.00      0.00         2\n",
      "           Makeup Remover       0.00      0.00      0.00         2\n",
      "                  Mascara       0.00      0.00      0.00         9\n",
      "            Mask and Peel       0.00      0.00      0.00         8\n",
      "        Mens Grooming Kit       0.00      0.00      0.00         0\n",
      "            Messenger Bag       0.00      0.00      0.00        30\n",
      "             Mobile Pouch       0.00      0.00      0.00        32\n",
      "                 Mufflers       0.00      0.00      0.00        26\n",
      "          Nail Essentials       0.00      0.00      0.00         4\n",
      "              Nail Polish       0.02      0.02      0.02       230\n",
      "      Necklace and Chains       0.00      0.00      0.00       112\n",
      "            Nehru Jackets       0.00      0.00      0.00         3\n",
      "              Night suits       0.02      0.02      0.02        98\n",
      "               Nightdress       0.00      0.00      0.00       132\n",
      "                  Patiala       0.00      0.00      0.00        26\n",
      "                  Pendant       0.00      0.00      0.00       123\n",
      "    Perfume and Body Mist       0.01      0.01      0.01       429\n",
      "              Rain Jacket       0.00      0.00      0.00        12\n",
      "            Rain Trousers       0.00      0.00      0.00         1\n",
      "                     Ring       0.00      0.00      0.00        82\n",
      "                     Robe       0.00      0.00      0.00         2\n",
      "                  Rompers       0.00      0.00      0.00         8\n",
      "                Rucksacks       0.00      0.00      0.00         7\n",
      "                   Salwar       0.00      0.00      0.00        22\n",
      "       Salwar and Dupatta       0.00      0.00      0.00         4\n",
      "                  Sandals       0.01      0.01      0.01       627\n",
      "                   Sarees       0.01      0.01      0.01       298\n",
      "                  Scarves       0.01      0.01      0.01        83\n",
      "                Shapewear       0.00      0.00      0.00         6\n",
      "                   Shirts       0.07      0.07      0.07      2250\n",
      "         Shoe Accessories       0.00      0.00      0.00        16\n",
      "               Shoe Laces       0.00      0.00      0.00         0\n",
      "                   Shorts       0.01      0.01      0.01       382\n",
      "                    Shrug       0.00      0.00      0.00         4\n",
      "                   Skirts       0.00      0.00      0.00        89\n",
      "                    Socks       0.01      0.01      0.01       480\n",
      "           Sports Sandals       0.00      0.00      0.00        46\n",
      "             Sports Shoes       0.03      0.03      0.03      1425\n",
      "                Stockings       0.00      0.00      0.00        22\n",
      "                   Stoles       0.00      0.00      0.00        62\n",
      "               Sunglasses       0.03      0.03      0.03       751\n",
      "                Sunscreen       0.00      0.00      0.00        17\n",
      "               Suspenders       0.00      0.00      0.00        28\n",
      "                 Sweaters       0.04      0.02      0.02       193\n",
      "              Sweatshirts       0.00      0.00      0.00       199\n",
      "                 Swimwear       0.00      0.00      0.00        11\n",
      "            Tablet Sleeve       0.00      0.00      0.00         2\n",
      "                     Ties       0.00      0.00      0.00       184\n",
      "       Ties and Cufflinks       0.00      0.00      0.00         1\n",
      "                   Tights       0.00      0.00      0.00         6\n",
      "                    Toner       0.00      0.00      0.00         3\n",
      "                     Tops       0.03      0.04      0.04      1233\n",
      "              Track Pants       0.00      0.00      0.00       212\n",
      "               Tracksuits       0.00      0.00      0.00        20\n",
      "         Travel Accessory       0.00      0.00      0.00        11\n",
      "              Trolley Bag       0.00      0.00      0.00         2\n",
      "                 Trousers       0.01      0.02      0.02       371\n",
      "                    Trunk       0.01      0.01      0.01        98\n",
      "                  Tshirts       0.16      0.17      0.16      4946\n",
      "                   Tunics       0.00      0.00      0.00       160\n",
      "                Umbrellas       0.00      0.00      0.00         4\n",
      "              Waist Pouch       0.00      0.00      0.00        11\n",
      "                Waistcoat       0.00      0.00      0.00        10\n",
      "                  Wallets       0.01      0.02      0.01       655\n",
      "                  Watches       0.06      0.07      0.06      1779\n",
      "             Water Bottle       0.00      0.00      0.00         7\n",
      "               Wristbands       0.00      0.00      0.00         4\n",
      "\n",
      "                micro avg       0.05      0.05      0.05     31026\n",
      "                macro avg       0.01      0.01      0.01     31026\n",
      "             weighted avg       0.05      0.05      0.05     31026\n",
      "\n"
     ]
    },
    {
     "name": "stderr",
     "output_type": "stream",
     "text": [
      "c:\\AI\\recommender_system\\.venv\\lib\\site-packages\\sklearn\\metrics\\_classification.py:1471: UndefinedMetricWarning: Precision and F-score are ill-defined and being set to 0.0 in labels with no predicted samples. Use `zero_division` parameter to control this behavior.\n",
      "  _warn_prf(average, modifier, msg_start, len(result))\n",
      "c:\\AI\\recommender_system\\.venv\\lib\\site-packages\\sklearn\\metrics\\_classification.py:1471: UndefinedMetricWarning: Recall and F-score are ill-defined and being set to 0.0 in labels with no true samples. Use `zero_division` parameter to control this behavior.\n",
      "  _warn_prf(average, modifier, msg_start, len(result))\n",
      "c:\\AI\\recommender_system\\.venv\\lib\\site-packages\\sklearn\\metrics\\_classification.py:1471: UndefinedMetricWarning: Precision and F-score are ill-defined and being set to 0.0 in labels with no predicted samples. Use `zero_division` parameter to control this behavior.\n",
      "  _warn_prf(average, modifier, msg_start, len(result))\n",
      "c:\\AI\\recommender_system\\.venv\\lib\\site-packages\\sklearn\\metrics\\_classification.py:1471: UndefinedMetricWarning: Recall and F-score are ill-defined and being set to 0.0 in labels with no true samples. Use `zero_division` parameter to control this behavior.\n",
      "  _warn_prf(average, modifier, msg_start, len(result))\n",
      "c:\\AI\\recommender_system\\.venv\\lib\\site-packages\\sklearn\\metrics\\_classification.py:1471: UndefinedMetricWarning: Precision and F-score are ill-defined and being set to 0.0 in labels with no predicted samples. Use `zero_division` parameter to control this behavior.\n",
      "  _warn_prf(average, modifier, msg_start, len(result))\n",
      "c:\\AI\\recommender_system\\.venv\\lib\\site-packages\\sklearn\\metrics\\_classification.py:1471: UndefinedMetricWarning: Recall and F-score are ill-defined and being set to 0.0 in labels with no true samples. Use `zero_division` parameter to control this behavior.\n",
      "  _warn_prf(average, modifier, msg_start, len(result))\n"
     ]
    }
   ],
   "source": [
    "# Calculate classification report\n",
    "train_class_report = classification_report(train_true_classes,\n",
    "                                           train_pred_classes,\n",
    "                                           labels=class_labels,\n",
    "                                           target_names=train_generator.class_indices.keys())\n",
    "print(\"Training Data Classification Report:\\n\", train_class_report)"
   ]
  },
  {
   "cell_type": "markdown",
   "metadata": {},
   "source": [
    "<h4>Inference from Baseline Model Training and Evaluation</h4>"
   ]
  },
  {
   "cell_type": "markdown",
   "metadata": {},
   "source": [
    "From the above model evaluations, we can infer that the baseline model with a smaller version of our original dataset has a decent accuracy during training, testing and evaluation. However, the classification report above on training data indicates that the model has an extremely precision, and recall values. This could be due to several factors including class imbalance, insufficient training data for certain classes, or a model that is not well-suited to the problem."
   ]
  },
  {
   "cell_type": "markdown",
   "metadata": {},
   "source": [
    "<h4>Immediate Next Steps for Model Improvement:</h4>\n",
    "1. Introducing more images for the different classes to improve the class imbalance and to eradicate the problem of the model seeing very few samples in some of the classes.<br>\n",
    "2. Ensuring that the dataset is balanced possibly by introducing class weights.<br>\n",
    "3. Consider using data augmentation techniques to increase the variety of training samples.<br>\n",
    "4. Use techniques like transfer learning using pretrained models like RESNet when working with a limited dataset.<br>"
   ]
  },
  {
   "cell_type": "markdown",
   "metadata": {},
   "source": [
    "<h4>Additional next steps for building a recommendation system:</h4>\n",
    "1. We would use the current baseline model as well as the future models we build based on above improvements to extract features. <br>\n",
    "2. If we keep the above architecture of the model intact, we would use the output of the last convolution layer to extract features. This is because the last layer should have learned to represent high-level features of the input images that are most discriminative for the different classes belonging to different types of fashion or clothing items.<br>\n",
    "3. We would use the feature extractor to extract features for any input image given as a query.<br>\n",
    "4. We would then use appropriate distance measure to find the top-n items to recommend.<br>"
   ]
  },
  {
   "cell_type": "markdown",
   "metadata": {},
   "source": [
    "Generating Recommendations on RESNET50 Pretrained Model using transfer learning"
   ]
  },
  {
   "cell_type": "code",
   "execution_count": 27,
   "metadata": {},
   "outputs": [],
   "source": [
    "model = ResNet50(weights='imagenet', include_top=False, input_shape=(224,224,3))\n",
    "# we set model.trainable to False as we just need to extract features\n",
    "model.trainable = False\n",
    "model = Sequential([model, GlobalMaxPooling2D()])"
   ]
  },
  {
   "cell_type": "code",
   "execution_count": 35,
   "metadata": {},
   "outputs": [],
   "source": [
    "def extract_features(img_path, model):\n",
    "    # Load the image from the given file path. The target size is set to 224x224 to match the input size expected by the model.\n",
    "    img = image.load_img(img_path, target_size=(224, 224))\n",
    "\n",
    "    # Convert the loaded image to a NumPy array. This creates a 3D array (height, width, channels).\n",
    "    img_array = image.img_to_array(img)\n",
    "\n",
    "    # Expand the dimensions of the array to include the batch size as the first dimension, \n",
    "    # which is required for the model to process the image. The resulting array becomes 4D (batch size, height, width, channels).\n",
    "    expanded_img_array = np.expand_dims(img_array, axis=0)\n",
    "\n",
    "    # Preprocess the image data (e.g., scaling pixel values) to match the format expected by the model.\n",
    "    preprocessed_img = preprocess_input(expanded_img_array)\n",
    "\n",
    "    # Use the model to make a prediction on the preprocessed image. \n",
    "    # The result is typically a feature vector corresponding to the image.\n",
    "    result = model.predict(preprocessed_img).flatten()\n",
    "\n",
    "    # Normalize the result to ensure that feature vectors have a similar scale. \n",
    "    # This can improve the performance of subsequent operations like clustering or classification.\n",
    "    normalized_result = result / norm(result)\n",
    "\n",
    "    return normalized_result\n"
   ]
  },
  {
   "cell_type": "code",
   "execution_count": 36,
   "metadata": {},
   "outputs": [],
   "source": [
    "filenames = []\n",
    "for file in os.listdir('images'):\n",
    "    filenames.append(os.path.join('images', file))"
   ]
  },
  {
   "cell_type": "markdown",
   "metadata": {},
   "source": [
    "Uncomment below code to dump feature list into pickle files"
   ]
  },
  {
   "cell_type": "code",
   "execution_count": 30,
   "metadata": {},
   "outputs": [],
   "source": [
    "# feature_list = []\n",
    "# for file in tqdm(filenames):\n",
    "#     feature_list.append(extract_features(file, model))\n",
    "\n",
    "# pickle.dump(feature_list,open('embeddings.pkl','wb'))\n",
    "# pickle.dump(filenames,open('filenames.pkl','wb'))"
   ]
  },
  {
   "cell_type": "code",
   "execution_count": 37,
   "metadata": {},
   "outputs": [],
   "source": [
    "# Custom Function for Layout and Styling\n",
    "def set_layout_style():\n",
    "    st.markdown(\"\"\"\n",
    "        <style>\n",
    "            .main {background-color: #f0f2f6;}\n",
    "            .stButton>button {width: 100%;}\n",
    "            .st-bb {margin-top: -20px;}\n",
    "            .st-eb {margin-bottom: -20px;}\n",
    "            img {max-width: 100%;}\n",
    "        </style>\n",
    "        \"\"\", unsafe_allow_html=True)"
   ]
  },
  {
   "cell_type": "code",
   "execution_count": 38,
   "metadata": {},
   "outputs": [],
   "source": [
    "set_layout_style()"
   ]
  },
  {
   "cell_type": "code",
   "execution_count": 39,
   "metadata": {},
   "outputs": [],
   "source": [
    "# Load feature list and filenames from pickled files\n",
    "feature_list = np.array(pickle.load(open('embeddings.pkl', 'rb')))\n",
    "filenames = pickle.load(open('filenames.pkl', 'rb'))"
   ]
  },
  {
   "cell_type": "code",
   "execution_count": 40,
   "metadata": {},
   "outputs": [],
   "source": [
    "from PIL import Image\n",
    "from numpy.linalg import norm\n",
    "from annoy import AnnoyIndex"
   ]
  },
  {
   "cell_type": "code",
   "execution_count": 41,
   "metadata": {},
   "outputs": [],
   "source": [
    "# Streamlit title\n",
    "st.title('Fashion Recommender System')\n",
    "\n",
    "# Sidebar for User Settings\n",
    "st.sidebar.header('Settings')\n",
    "n_recommendations = st.sidebar.slider('Number of Recommendations', min_value=1, max_value=10, value=6)\n",
    "st.sidebar.text('Adjust the number of recommendations here.')\n",
    "\n",
    "\n",
    "# Function to build and return an Annoy index\n",
    "def build_annoy_index(feature_list, num_trees=10):\n",
    "    f = feature_list.shape[1]\n",
    "    t = AnnoyIndex(f, 'angular')\n",
    "    for i in range(feature_list.shape[0]):\n",
    "        t.add_item(i, feature_list[i])\n",
    "    t.build(num_trees)\n",
    "    return t\n",
    "\n",
    "\n",
    "# Load or build Annoy index\n",
    "try:\n",
    "    f = feature_list.shape[1]\n",
    "    annoy_index = AnnoyIndex(f, 'angular')\n",
    "    annoy_index.load('fashion.ann')  # Load pre-built index\n",
    "except:\n",
    "    annoy_index = build_annoy_index(feature_list)\n",
    "    annoy_index.save('fashion.ann')\n",
    "\n",
    "\n",
    "# Function for recommending items\n",
    "def recommend(features, annoy_index, n=6):\n",
    "    indices = annoy_index.get_nns_by_vector(features, n)\n",
    "    return indices\n",
    "\n",
    "\n",
    "# Function to extract features from an image\n",
    "def extract_features(img_path, model):\n",
    "    img = image.load_img(img_path, target_size=(224, 224))\n",
    "    img_array = image.img_to_array(img)\n",
    "    expanded_img_array = np.expand_dims(img_array, axis=0)\n",
    "    preprocessed_img = preprocess_input(expanded_img_array)\n",
    "    result = model.predict(preprocessed_img).flatten()\n",
    "    normalized_result = result / norm(result)\n",
    "    return normalized_result\n",
    "\n",
    "\n",
    "# Load the pre-trained ResNet50 model\n",
    "model = ResNet50(weights='imagenet', include_top=False, input_shape=(224, 224, 3))\n",
    "model.trainable = False\n",
    "model = tf.keras.Sequential([model, GlobalMaxPooling2D()])\n",
    "\n",
    "\n",
    "# Function to save the uploaded file\n",
    "def save_uploaded_file(uploaded_file):\n",
    "    try:\n",
    "        os.makedirs('uploads', exist_ok=True)  # Create 'uploads' directory if it doesn't exist\n",
    "        with open(os.path.join('uploads', uploaded_file.name), 'wb') as f:\n",
    "            f.write(uploaded_file.getbuffer())\n",
    "        return True\n",
    "    except Exception as e:\n",
    "        print(e)  # You can use st.error to display the error on the frontend\n",
    "        return False\n",
    "\n",
    "\n",
    "# File uploader\n",
    "uploaded_file = st.file_uploader(\"Choose an image\", type=['png', 'jpg', 'jpeg'])\n",
    "if uploaded_file is not None:\n",
    "    if save_uploaded_file(uploaded_file):\n",
    "        # Display the uploaded file\n",
    "        display_image = Image.open(uploaded_file)\n",
    "        st.image(display_image, caption='Uploaded Image', use_column_width=True)\n",
    "\n",
    "        with st.spinner('Finding recommendations...'):\n",
    "            # Extract features and get recommendations\n",
    "            features = extract_features(os.path.join(\"uploads\", uploaded_file.name), model)\n",
    "            indices = recommend(features, annoy_index, n=n_recommendations)\n",
    "\n",
    "            # Display recommended items\n",
    "            for idx in indices:\n",
    "                st.image(filenames[idx], use_column_width=True, caption=f'Recommended Item {idx + 1}')\n",
    "            st.success('Recommendations generated!')\n",
    "    else:\n",
    "        st.error(\"Error in file upload. Please try again.\")\n",
    "\n",
    "# About section\n",
    "with st.expander(\"About this App\"):\n",
    "    st.write(\"\"\"\n",
    "        This Fashion Recommender System uses advanced machine learning techniques to suggest fashion items similar to the uploaded image. Whether you're looking for outfit inspirations or the latest fashion trends, this tool helps you discover them effortlessly.\n",
    "    \"\"\")"
   ]
  },
  {
   "cell_type": "code",
   "execution_count": null,
   "metadata": {},
   "outputs": [],
   "source": []
  }
 ],
 "metadata": {
  "kernelspec": {
   "display_name": "Python 3 (ipykernel)",
   "language": "python",
   "name": "python3"
  },
  "language_info": {
   "codemirror_mode": {
    "name": "ipython",
    "version": 3
   },
   "file_extension": ".py",
   "mimetype": "text/x-python",
   "name": "python",
   "nbconvert_exporter": "python",
   "pygments_lexer": "ipython3",
   "version": "3.9.5"
  }
 },
 "nbformat": 4,
 "nbformat_minor": 4
}
